{
 "cells": [
  {
   "cell_type": "markdown",
   "metadata": {},
   "source": [
    "This tutorial blog is meant for the first time users of Slurm for running jobs/experiments on SHARCNET. SHARCNET is a computing network accessible by researchers in Canadian universities.\n",
    "\n",
    "In this blog I have simply agregated few steps (and few tips and tricks) which helped me to run my first job on SHARCNET. Thus, if you have got your account set up on SHARCNET and can access it; and then wondering about the next steps to execute your first experiment, this blog will guide you through it. Note that `experiments` and `jobs` are used interchangeably.\n",
    "\n",
    "# Exploring your account\n"
   ]
  },
  {
   "cell_type": "code",
   "execution_count": null,
   "metadata": {},
   "outputs": [],
   "source": []
  }
 ],
 "metadata": {
  "kernelspec": {
   "display_name": "Python 3",
   "language": "python",
   "name": "python3"
  },
  "language_info": {
   "codemirror_mode": {
    "name": "ipython",
    "version": 3
   },
   "file_extension": ".py",
   "mimetype": "text/x-python",
   "name": "python",
   "nbconvert_exporter": "python",
   "pygments_lexer": "ipython3",
   "version": "3.7.4"
  }
 },
 "nbformat": 4,
 "nbformat_minor": 2
}
